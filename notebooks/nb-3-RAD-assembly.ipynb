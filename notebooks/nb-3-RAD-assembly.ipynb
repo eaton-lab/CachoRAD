{
 "cells": [
  {
   "cell_type": "markdown",
   "metadata": {},
   "source": [
    "# Notebook 3: RAD-seq assembly\n",
    "\n",
    "In this notebook we assemble two RAD-seq libraries prepared by Floragenex using the original RAD method. Data are assembled with *ipyrad* by mapping reads to a reference genome to produce output files for downstream analyses. "
   ]
  },
  {
   "cell_type": "code",
   "execution_count": 3,
   "metadata": {},
   "outputs": [],
   "source": [
    "import ipyrad as ip"
   ]
  },
  {
   "cell_type": "markdown",
   "metadata": {},
   "source": [
    "### PATH to demultiplexed fastq files from each library"
   ]
  },
  {
   "cell_type": "code",
   "execution_count": 7,
   "metadata": {},
   "outputs": [],
   "source": [
    "FASTQS_1 = \"../data_fastqs/demux_lib1_fastqs/*.gz\"\n",
    "FASTQS_2 = \"../data_fastqs/demux_lib2_fastqs/*.gz\"\n",
    "FASTQS_3 = \"../data_fastqs/demux_digested/*.gz\""
   ]
  },
  {
   "cell_type": "markdown",
   "metadata": {},
   "source": [
    "### PATH to reference assembly scaffolds fasta file"
   ]
  },
  {
   "cell_type": "code",
   "execution_count": 8,
   "metadata": {},
   "outputs": [],
   "source": [
    "REF = \"../data_ref_genomes/S_irio.fa\""
   ]
  },
  {
   "cell_type": "markdown",
   "metadata": {},
   "source": [
    "### Load all fastq files "
   ]
  },
  {
   "cell_type": "code",
   "execution_count": 11,
   "metadata": {},
   "outputs": [
    {
     "name": "stdout",
     "output_type": "stream",
     "text": [
      "New Assembly: lib1\n",
      "New Assembly: lib2\n",
      "New Assembly: lib3\n"
     ]
    }
   ],
   "source": [
    "data1 = ip.Assembly(\"lib1\")\n",
    "data1.params.sorted_fastq_path = FASTQS_1\n",
    "data1.run(\"1\", force=True, quiet=True, auto=True)\n",
    "\n",
    "data2 = ip.Assembly(\"lib2\")\n",
    "data2.params.sorted_fastq_path = FASTQS_2\n",
    "data2.run(\"1\", force=True, quiet=True, auto=True)\n",
    "\n",
    "data3 = ip.Assembly(\"lib3\")\n",
    "data3.params.sorted_fastq_path = FASTQS_3\n",
    "data3.run(\"1\", force=True, quiet=True, auto=True)"
   ]
  },
  {
   "cell_type": "markdown",
   "metadata": {},
   "source": [
    "### Merge samples into one assembly object"
   ]
  },
  {
   "cell_type": "code",
   "execution_count": 12,
   "metadata": {},
   "outputs": [
    {
     "name": "stdout",
     "output_type": "stream",
     "text": [
      "New Assembly: merged\n"
     ]
    }
   ],
   "source": [
    "data = ip.merge(\"merged\", [data1, data2, data3])"
   ]
  },
  {
   "cell_type": "markdown",
   "metadata": {},
   "source": [
    "\n",
    "### Set assembly parameters"
   ]
  },
  {
   "cell_type": "code",
   "execution_count": 15,
   "metadata": {},
   "outputs": [
    {
     "data": {
      "text/plain": [
       "0   assembly_name               merged                                       \n",
       "1   project_dir                 ~/Documents/CachoRAD/analysis-ipyrad         \n",
       "2   raw_fastq_path              Merged: lib1, lib2, lib3                     \n",
       "3   barcodes_path               Merged: lib1, lib2, lib3                     \n",
       "4   sorted_fastq_path           Merged: lib1, lib2, lib3                     \n",
       "5   assembly_method             reference                                    \n",
       "6   reference_sequence          ~/Documents/CachoRAD/data_ref_genomes/S_irio.fa\n",
       "7   datatype                    rad                                          \n",
       "8   restriction_overhang        ('TGCAG', '')                                \n",
       "9   max_low_qual_bases          5                                            \n",
       "10  phred_Qscore_offset         33                                           \n",
       "11  mindepth_statistical        6                                            \n",
       "12  mindepth_majrule            2                                            \n",
       "13  maxdepth                    10000                                        \n",
       "14  clust_threshold             0.85                                         \n",
       "15  max_barcode_mismatch        0                                            \n",
       "16  filter_adapters             3                                            \n",
       "17  filter_min_trim_len         35                                           \n",
       "18  max_alleles_consens         2                                            \n",
       "19  max_Ns_consens              0.05                                         \n",
       "20  max_Hs_consens              0.05                                         \n",
       "21  min_samples_locus           4                                            \n",
       "22  max_SNPs_locus              0.2                                          \n",
       "23  max_Indels_locus            8                                            \n",
       "24  max_shared_Hs_locus         0.5                                          \n",
       "25  trim_reads                  (0, 0, 0, 0)                                 \n",
       "26  trim_loci                   (0, 0, 0, 0)                                 \n",
       "27  output_formats              ['p', 's', 'l']                              \n",
       "28  pop_assign_file                                                          \n",
       "29  reference_as_filter                                                      "
      ]
     },
     "execution_count": 15,
     "metadata": {},
     "output_type": "execute_result"
    }
   ],
   "source": [
    "data.params.project_dir = \"../analysis-ipyrad\"\n",
    "data.params.filter_adapters = 3\n",
    "data.params.assembly_method = \"reference\"\n",
    "data.params.reference_sequence = REF\n",
    "data.params.mindepth_majrule = 2\n",
    "data.params"
   ]
  },
  {
   "cell_type": "markdown",
   "metadata": {},
   "source": [
    "### Run the assembly steps 2-6"
   ]
  },
  {
   "cell_type": "code",
   "execution_count": 16,
   "metadata": {},
   "outputs": [
    {
     "name": "stdout",
     "output_type": "stream",
     "text": [
      "Parallel connection | sacra: 38 cores\n",
      "[####################] 100% 0:00:01 | concatenating inputs | s2 |\n",
      "[####################] 100% 0:34:27 | processing reads     | s2 |\n",
      "[####################] 100% 0:04:01 | indexing reference   | s3 |\n",
      "[####################] 100% 0:01:47 | dereplicating        | s3 |\n",
      "[####################] 100% 0:10:17 | mapping reads        | s3 |\n",
      "[####################] 100% 0:05:40 | building clusters    | s3 |\n",
      "[####################] 100% 0:00:10 | calc cluster stats   | s3 |\n",
      "[####################] 100% 0:04:09 | inferring [H, E]     | s4 |\n",
      "[####################] 100% 0:00:09 | calculating depths   | s5 |\n",
      "[####################] 100% 0:00:13 | chunking clusters    | s5 |\n",
      "[####################] 100% 0:29:02 | consens calling      | s5 |\n",
      "[####################] 100% 0:01:05 | indexing alleles     | s5 |\n",
      "[####################] 100% 0:00:29 | concatenating bams   | s6 |\n",
      "[####################] 100% 0:00:08 | fetching regions     | s6 |\n",
      "[####################] 100% 0:00:15 | building database    | s6 |\n",
      "Parallel connection closed.\n"
     ]
    }
   ],
   "source": [
    "data.ipcluster['cores'] = 38\n",
    "data.ipcluster['threads'] = 4\n",
    "data.run(\"23456\", auto=True)"
   ]
  },
  {
   "cell_type": "markdown",
   "metadata": {},
   "source": [
    "### Run final assembly step to generate output files"
   ]
  },
  {
   "cell_type": "code",
   "execution_count": 25,
   "metadata": {},
   "outputs": [
    {
     "data": {
      "text/html": [
       "<div>\n",
       "<style scoped>\n",
       "    .dataframe tbody tr th:only-of-type {\n",
       "        vertical-align: middle;\n",
       "    }\n",
       "\n",
       "    .dataframe tbody tr th {\n",
       "        vertical-align: top;\n",
       "    }\n",
       "\n",
       "    .dataframe thead th {\n",
       "        text-align: right;\n",
       "    }\n",
       "</style>\n",
       "<table border=\"1\" class=\"dataframe\">\n",
       "  <thead>\n",
       "    <tr style=\"text-align: right;\">\n",
       "      <th></th>\n",
       "      <th>state</th>\n",
       "      <th>reads_raw</th>\n",
       "      <th>reads_passed_filter</th>\n",
       "      <th>refseq_mapped_reads</th>\n",
       "      <th>refseq_unmapped_reads</th>\n",
       "      <th>clusters_total</th>\n",
       "      <th>clusters_hidepth</th>\n",
       "      <th>hetero_est</th>\n",
       "      <th>error_est</th>\n",
       "      <th>reads_consens</th>\n",
       "    </tr>\n",
       "  </thead>\n",
       "  <tbody>\n",
       "    <tr>\n",
       "      <th>S_campestris_Burgess_1353</th>\n",
       "      <td>6</td>\n",
       "      <td>2108</td>\n",
       "      <td>1495</td>\n",
       "      <td>1081</td>\n",
       "      <td>414</td>\n",
       "      <td>99</td>\n",
       "      <td>77</td>\n",
       "      <td>0.000452</td>\n",
       "      <td>0.002361</td>\n",
       "      <td>77</td>\n",
       "    </tr>\n",
       "    <tr>\n",
       "      <th>S_campestris_Rebman_9956</th>\n",
       "      <td>6</td>\n",
       "      <td>14013</td>\n",
       "      <td>5861</td>\n",
       "      <td>4319</td>\n",
       "      <td>1542</td>\n",
       "      <td>345</td>\n",
       "      <td>301</td>\n",
       "      <td>0.000453</td>\n",
       "      <td>0.002291</td>\n",
       "      <td>298</td>\n",
       "    </tr>\n",
       "    <tr>\n",
       "      <th>S_cordatus_Stoughton_2201</th>\n",
       "      <td>6</td>\n",
       "      <td>19957</td>\n",
       "      <td>19188</td>\n",
       "      <td>11760</td>\n",
       "      <td>7428</td>\n",
       "      <td>1014</td>\n",
       "      <td>866</td>\n",
       "      <td>0.000937</td>\n",
       "      <td>0.002166</td>\n",
       "      <td>855</td>\n",
       "    </tr>\n",
       "  </tbody>\n",
       "</table>\n",
       "</div>"
      ],
      "text/plain": [
       "                           state  reads_raw  reads_passed_filter  \\\n",
       "S_campestris_Burgess_1353      6       2108                 1495   \n",
       "S_campestris_Rebman_9956       6      14013                 5861   \n",
       "S_cordatus_Stoughton_2201      6      19957                19188   \n",
       "\n",
       "                           refseq_mapped_reads  refseq_unmapped_reads  \\\n",
       "S_campestris_Burgess_1353                 1081                    414   \n",
       "S_campestris_Rebman_9956                  4319                   1542   \n",
       "S_cordatus_Stoughton_2201                11760                   7428   \n",
       "\n",
       "                           clusters_total  clusters_hidepth  hetero_est  \\\n",
       "S_campestris_Burgess_1353              99                77    0.000452   \n",
       "S_campestris_Rebman_9956              345               301    0.000453   \n",
       "S_cordatus_Stoughton_2201            1014               866    0.000937   \n",
       "\n",
       "                           error_est  reads_consens  \n",
       "S_campestris_Burgess_1353   0.002361             77  \n",
       "S_campestris_Rebman_9956    0.002291            298  \n",
       "S_cordatus_Stoughton_2201   0.002166            855  "
      ]
     },
     "execution_count": 25,
     "metadata": {},
     "output_type": "execute_result"
    }
   ],
   "source": [
    "data.stats[data.stats.reads_consens < 1000]"
   ]
  },
  {
   "cell_type": "code",
   "execution_count": 26,
   "metadata": {},
   "outputs": [],
   "source": [
    "keep = data.stats[data.stats.reads_consens > 1000].index.tolist()\n",
    "min4 = data.branch(\"Strept_min4\", subsamples=keep)"
   ]
  },
  {
   "cell_type": "code",
   "execution_count": 27,
   "metadata": {},
   "outputs": [
    {
     "name": "stdout",
     "output_type": "stream",
     "text": [
      "Parallel connection | sacra: 38 cores\n",
      "[####################] 100% 0:00:23 | applying filters     | s7 |\n",
      "[####################] 100% 0:03:09 | building arrays      | s7 |\n",
      "[####################] 100% 0:02:03 | writing conversions  | s7 |\n",
      "Parallel connection closed.\n"
     ]
    }
   ],
   "source": [
    "min4.run(\"7\", auto=True)"
   ]
  },
  {
   "cell_type": "code",
   "execution_count": 29,
   "metadata": {},
   "outputs": [
    {
     "data": {
      "text/html": [
       "<div>\n",
       "<style scoped>\n",
       "    .dataframe tbody tr th:only-of-type {\n",
       "        vertical-align: middle;\n",
       "    }\n",
       "\n",
       "    .dataframe tbody tr th {\n",
       "        vertical-align: top;\n",
       "    }\n",
       "\n",
       "    .dataframe thead th {\n",
       "        text-align: right;\n",
       "    }\n",
       "</style>\n",
       "<table border=\"1\" class=\"dataframe\">\n",
       "  <thead>\n",
       "    <tr style=\"text-align: right;\">\n",
       "      <th></th>\n",
       "      <th>sample_coverage</th>\n",
       "    </tr>\n",
       "  </thead>\n",
       "  <tbody>\n",
       "    <tr>\n",
       "      <th>reference</th>\n",
       "      <td>40999</td>\n",
       "    </tr>\n",
       "    <tr>\n",
       "      <th>A_thaliana_TAIR10</th>\n",
       "      <td>2053</td>\n",
       "    </tr>\n",
       "    <tr>\n",
       "      <th>C_amp_amplexicaulis_e068</th>\n",
       "      <td>7878</td>\n",
       "    </tr>\n",
       "    <tr>\n",
       "      <th>C_amp_barbarae_REF</th>\n",
       "      <td>3797</td>\n",
       "    </tr>\n",
       "    <tr>\n",
       "      <th>C_amp_barbarae_e020</th>\n",
       "      <td>5953</td>\n",
       "    </tr>\n",
       "    <tr>\n",
       "      <th>...</th>\n",
       "      <td>...</td>\n",
       "    </tr>\n",
       "    <tr>\n",
       "      <th>St_elata_e093</th>\n",
       "      <td>7048</td>\n",
       "    </tr>\n",
       "    <tr>\n",
       "      <th>St_pinnata_e090</th>\n",
       "      <td>9879</td>\n",
       "    </tr>\n",
       "    <tr>\n",
       "      <th>Sy_irio_NJ_3877</th>\n",
       "      <td>5883</td>\n",
       "    </tr>\n",
       "    <tr>\n",
       "      <th>The_crispum_e084</th>\n",
       "      <td>6137</td>\n",
       "    </tr>\n",
       "    <tr>\n",
       "      <th>Thly_aurea_Porter_15531</th>\n",
       "      <td>5756</td>\n",
       "    </tr>\n",
       "  </tbody>\n",
       "</table>\n",
       "<p>103 rows × 1 columns</p>\n",
       "</div>"
      ],
      "text/plain": [
       "                          sample_coverage\n",
       "reference                           40999\n",
       "A_thaliana_TAIR10                    2053\n",
       "C_amp_amplexicaulis_e068             7878\n",
       "C_amp_barbarae_REF                   3797\n",
       "C_amp_barbarae_e020                  5953\n",
       "...                                   ...\n",
       "St_elata_e093                        7048\n",
       "St_pinnata_e090                      9879\n",
       "Sy_irio_NJ_3877                      5883\n",
       "The_crispum_e084                     6137\n",
       "Thly_aurea_Porter_15531              5756\n",
       "\n",
       "[103 rows x 1 columns]"
      ]
     },
     "execution_count": 29,
     "metadata": {},
     "output_type": "execute_result"
    }
   ],
   "source": [
    "min4.stats_dfs.s7_samples"
   ]
  }
 ],
 "metadata": {
  "kernelspec": {
   "display_name": "Python 3",
   "language": "python",
   "name": "python3"
  },
  "language_info": {
   "codemirror_mode": {
    "name": "ipython",
    "version": 3
   },
   "file_extension": ".py",
   "mimetype": "text/x-python",
   "name": "python",
   "nbconvert_exporter": "python",
   "pygments_lexer": "ipython3",
   "version": "3.7.6"
  }
 },
 "nbformat": 4,
 "nbformat_minor": 4
}
