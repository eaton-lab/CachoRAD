{
 "cells": [
  {
   "cell_type": "markdown",
   "metadata": {},
   "source": [
    "# Notebook 1: Reference genomes\n",
    "\n",
    "In this notebook we will download the fasta sequence file for several closely related reference genomes. These will be used in this study either to serve as an achor to map RAD-seq reads to, or as additional outgroup samples by using the `digest_genomes` tool to extract RAD-seq like pseudo-reads from the sequence files. \n",
    "\n",
    "\n",
    "#### Resources: \n",
    "\n",
    "Ivalú Cacho, N., A. Millie Burrell, Alan E. Pepper, and Sharon Y. Strauss. 2014. “Novel Nuclear Markers Inform the Systematics and the Evolution of Serpentine Use in Streptanthus and Allies (Thelypodieae, Brassicaceae).” Molecular Phylogenetics and Evolution 72 (March): 71–81. https://doi.org/10.1016/j.ympev.2013.11.018.\n",
    "\n",
    "Nikolov, Lachezar A., Philip Shushkov, Bruno Nevado, Xiangchao Gan, Ihsan A. Al‐Shehbaz, Dmitry Filatov, C. Donovan Bailey, and Miltos Tsiantis. 2019. “Resolving the Backbone of the Brassicaceae Phylogeny for Investigating Trait Diversity.” New Phytologist 222 (3): 1638–51. https://doi.org/10.1111/nph.15732.\n",
    "\n",
    "http://brassicadb.org/brad/"
   ]
  },
  {
   "cell_type": "code",
   "execution_count": 1,
   "metadata": {},
   "outputs": [],
   "source": [
    "import ipyrad.analysis as ipa"
   ]
  },
  {
   "cell_type": "markdown",
   "metadata": {},
   "source": [
    "### Genome 1: *Sisymbrium_irio*\n",
    "This is the most closely related high quality genome assembly and so we will use it as the scaffold for our RAD-seq assembly. http://brassicadb.org/brad/datasets/pub/BrassicaceaeGenome/. The RAD dataset includes a Sisymbrium sample as well that will also serve as an outgroup. We create a digested copy in case we decide to include it as a sample in an analysis that uses a different reference genome. "
   ]
  },
  {
   "cell_type": "code",
   "execution_count": 2,
   "metadata": {},
   "outputs": [],
   "source": [
    "%%bash\n",
    "\n",
    "# link to the Brassicaceae genome database\n",
    "LINK=\"http://brassicadb.org/brad/datasets/pub/BrassicaceaeGenome\"\n",
    "\n",
    "# download the fasta genome file\n",
    "wget -q \\\n",
    "     -O ../data_ref_genomes/S_irio.fa.gz \\\n",
    "     $LINK/Sisymbrium_irio/S.irio.fa.gz\n",
    "   \n",
    "# decompress the genome file\n",
    "gunzip ../data_ref_genomes/S_irio.fa.gz -f "
   ]
  },
  {
   "cell_type": "code",
   "execution_count": 3,
   "metadata": {},
   "outputs": [
    {
     "name": "stdout",
     "output_type": "stream",
     "text": [
      "extracted reads from 26869 positions\n"
     ]
    }
   ],
   "source": [
    "digest = ipa.digest_genome(\n",
    "    fasta=\"../data_ref_genomes/S_irio.fa\",\n",
    "    name=\"S_irio\",\n",
    "    workdir=\"../data_fastqs/demux_digested\",\n",
    "    re1=\"CTGCAG\", \n",
    "    re2=None,\n",
    "    paired=False,\n",
    "    readlen=150,\n",
    "    ncopies=10,\n",
    "    min_size=300,\n",
    "    max_size=800,\n",
    ")\n",
    "digest.run()"
   ]
  },
  {
   "cell_type": "markdown",
   "metadata": {},
   "source": [
    "### Genome 2: Arabidopsis thaliana\n",
    "Super high quality but more distantly related. We will digest and use as an outgroup sequence. "
   ]
  },
  {
   "cell_type": "code",
   "execution_count": 4,
   "metadata": {},
   "outputs": [],
   "source": [
    "%%bash\n",
    "\n",
    "# link to the Brassicaceae genome database\n",
    "LINK=\"http://brassicadb.org/brad/datasets/pub/BrassicaceaeGenome\"\n",
    "\n",
    "# download the fasta genome file\n",
    "wget -q \\\n",
    "     -O ../data_ref_genomes/A_thaliana.fa.gz \\\n",
    "     $LINK/Arabidopsis_thaliana/TAIR10_genome.fas.gz\n",
    "\n",
    "# decompress the genome file\n",
    "gunzip ../data_ref_genomes/A_thaliana.fa.gz -f"
   ]
  },
  {
   "cell_type": "code",
   "execution_count": 5,
   "metadata": {},
   "outputs": [
    {
     "name": "stdout",
     "output_type": "stream",
     "text": [
      "extracted reads from 19684 positions\n"
     ]
    }
   ],
   "source": [
    "digest = ipa.digest_genome(\n",
    "    fasta=\"../data_ref_genomes/A_thaliana.fa\",\n",
    "    name=\"A_thaliana_TAIR10\",\n",
    "    workdir=\"../data_fastqs/demux_digested\",\n",
    "    re1=\"CTGCAG\", \n",
    "    re2=None,\n",
    "    paired=False,\n",
    "    readlen=150,\n",
    "    ncopies=10,\n",
    "    min_size=300,\n",
    "    max_size=800,\n",
    ")\n",
    "digest.run()"
   ]
  },
  {
   "cell_type": "markdown",
   "metadata": {},
   "source": [
    "### Genome 3: *Caulanthus amplexicaulis var. barbarae*\n",
    "\n",
    "This is a draft (low quality) reference genome assembly, but it is the closest relative for which a genome is \"available\". It is not yet published (I believe) but made available to us. https://www.ncbi.nlm.nih.gov/bioproject/?term=209542. We will digest and use as a closely related outgroup sequence. "
   ]
  },
  {
   "cell_type": "code",
   "execution_count": 6,
   "metadata": {},
   "outputs": [],
   "source": [
    "# located in ../data_ref_genomes/Caulanthus_amplexicaulis_var._barbarae.faa"
   ]
  },
  {
   "cell_type": "code",
   "execution_count": 7,
   "metadata": {},
   "outputs": [
    {
     "name": "stdout",
     "output_type": "stream",
     "text": [
      "extracted reads from 44669 positions\n"
     ]
    }
   ],
   "source": [
    "digest = ipa.digest_genome(\n",
    "    fasta=\"../data_ref_genomes/Caulanthus_amplexicaulis_var._barbarae.faa\",\n",
    "    name=\"C_amp_barbarae_REF\",\n",
    "    workdir=\"../data_fastqs/demux_digested\",\n",
    "    re1=\"CTGCAG\", \n",
    "    re2=None,\n",
    "    paired=False,\n",
    "    readlen=150,\n",
    "    ncopies=10,\n",
    "    min_size=300,\n",
    "    max_size=800,\n",
    ")\n",
    "digest.run()"
   ]
  }
 ],
 "metadata": {
  "kernelspec": {
   "display_name": "Python 3",
   "language": "python",
   "name": "python3"
  },
  "language_info": {
   "codemirror_mode": {
    "name": "ipython",
    "version": 3
   },
   "file_extension": ".py",
   "mimetype": "text/x-python",
   "name": "python",
   "nbconvert_exporter": "python",
   "pygments_lexer": "ipython3",
   "version": "3.7.6"
  }
 },
 "nbformat": 4,
 "nbformat_minor": 4
}
