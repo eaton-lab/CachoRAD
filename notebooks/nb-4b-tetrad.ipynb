{
 "cells": [
  {
   "cell_type": "markdown",
   "metadata": {},
   "source": [
    "# Notebook 4b: tetrad species tree inference\n",
    "\n",
    "Infer a species tree using the SVDquartets algorithm implemented in tetrad."
   ]
  },
  {
   "cell_type": "code",
   "execution_count": 5,
   "metadata": {},
   "outputs": [],
   "source": [
    "import ipyrad.analysis as ipa\n",
    "import numpy as np\n",
    "import pandas as pd\n",
    "import toytree"
   ]
  },
  {
   "cell_type": "markdown",
   "metadata": {},
   "source": [
    "### Datafiles"
   ]
  },
  {
   "cell_type": "code",
   "execution_count": 6,
   "metadata": {},
   "outputs": [],
   "source": [
    "SEQS = \"../analysis-ipyrad/Strept_min4_outfiles/Strept_min4.seqs.hdf5\"\n",
    "SNPS = \"../analysis-ipyrad/Strept_min4_outfiles/Strept_min4.snps.hdf5\""
   ]
  },
  {
   "cell_type": "code",
   "execution_count": 7,
   "metadata": {},
   "outputs": [
    {
     "data": {
      "text/plain": [
       "48"
      ]
     },
     "execution_count": 7,
     "metadata": {},
     "output_type": "execute_result"
    }
   ],
   "source": [
    "df = pd.read_csv(\"../data_sample_info/mastersheetSamples_RADstrep_20191017.csv\")\n",
    "keep = {'taxa': df[df['4balanced'] == 1].tip_label_ivalu.tolist()}\n",
    "len(keep['taxa'])"
   ]
  },
  {
   "cell_type": "markdown",
   "metadata": {},
   "source": [
    "### Infer a tetrad tree"
   ]
  },
  {
   "cell_type": "code",
   "execution_count": 3,
   "metadata": {},
   "outputs": [
    {
     "name": "stdout",
     "output_type": "stream",
     "text": [
      "loading snps array [103 taxa x 711484 snps]\n",
      "max unlinked SNPs per quartet [nloci]: 39181\n",
      "quartet sampler [random]: 2000000 / 4421275\n"
     ]
    }
   ],
   "source": [
    "tet = ipa.tetrad(\n",
    "    data=SNPS,\n",
    "    name=\"strept-tetrad-backbone\",\n",
    "    workdir=\"../analysis-tetrad\",\n",
    "    nquartets=2e6,\n",
    "    nboots=100,   \n",
    ")"
   ]
  },
  {
   "cell_type": "code",
   "execution_count": 4,
   "metadata": {},
   "outputs": [
    {
     "name": "stdout",
     "output_type": "stream",
     "text": [
      "Parallel connection | sacra: 38 cores\n",
      "initializing quartet sets database\n",
      "[####################] 100% 1:15:01 | full tree * | mean SNPs/qrt: 753  \n",
      "[#################   ]  86% 1:15:19 | boot rep. 1 | mean SNPs/qrt: 754  \n",
      "Keyboard Interrupt by user\n",
      "\n",
      "Parallel connection closed.\n"
     ]
    }
   ],
   "source": [
    "tet.ipcluster['cores'] = 38\n",
    "tet.run(force=True, show_cluster=True, auto=True)"
   ]
  },
  {
   "cell_type": "markdown",
   "metadata": {},
   "source": [
    "### Draw the tree"
   ]
  },
  {
   "cell_type": "code",
   "execution_count": 11,
   "metadata": {},
   "outputs": [
    {
     "data": {
      "text/html": [
       "<div class=\"toyplot\" id=\"t569d46ca82a54499938d6e1072512271\" style=\"text-align:center\"><svg class=\"toyplot-canvas-Canvas\" height=\"1200.0px\" id=\"t13e06b461e154d18be6b672155403777\" preserveAspectRatio=\"xMidYMid meet\" style=\"background-color:transparent;border-color:#292724;border-style:none;border-width:1.0;fill:rgb(16.1%,15.3%,14.1%);fill-opacity:1.0;font-family:Helvetica;font-size:12px;opacity:1.0;stroke:rgb(16.1%,15.3%,14.1%);stroke-opacity:1.0;stroke-width:1.0\" viewBox=\"0 0 500.0 1200.0\" width=\"500.0px\" xmlns=\"http://www.w3.org/2000/svg\" xmlns:toyplot=\"http://www.sandia.gov/toyplot\" xmlns:xlink=\"http://www.w3.org/1999/xlink\"><g class=\"toyplot-coordinates-Cartesian\" id=\"t2f3b6c6d3bec4618881fb00614362951\"><clipPath id=\"td8aea50c680d4e0381c055e120803e84\"><rect height=\"1140.0\" width=\"440.0\" x=\"30.0\" y=\"30.0\"></rect></clipPath><g clip-path=\"url(#td8aea50c680d4e0381c055e120803e84)\"><g class=\"toytree-mark-Toytree\" id=\"t4eca7447d6d542889846f088c0f2a167\"><g class=\"toytree-Edges\" style=\"fill:none;stroke:rgb(14.9%,14.9%,14.9%);stroke-linecap:round;stroke-opacity:1;stroke-width:2\"><path d=\"M 51.2 131.4 L 51.2 76.7 L 65.4 76.7\" id=\"196,195\"></path><path d=\"M 51.2 131.4 L 51.2 186.0 L 65.4 186.0\" id=\"196,194\"></path><path d=\"M 65.4 76.7 L 65.4 91.1 L 79.6 91.1\" id=\"195,193\"></path><path d=\"M 65.4 186.0 L 65.4 243.8 L 79.6 243.8\" id=\"194,192\"></path><path d=\"M 79.6 91.1 L 79.6 78.8 L 93.8 78.8\" id=\"193,191\"></path><path d=\"M 79.6 91.1 L 79.6 103.5 L 93.8 103.5\" id=\"193,190\"></path><path d=\"M 79.6 243.8 L 79.6 149.4 L 93.8 149.4\" id=\"192,189\"></path><path d=\"M 79.6 243.8 L 79.6 338.3 L 93.8 338.3\" id=\"192,188\"></path><path d=\"M 93.8 103.5 L 93.8 111.7 L 108.1 111.7\" id=\"190,187\"></path><path d=\"M 93.8 149.4 L 93.8 159.7 L 108.1 159.7\" id=\"189,186\"></path><path d=\"M 93.8 338.3 L 93.8 233.4 L 108.1 233.4\" id=\"188,185\"></path><path d=\"M 93.8 338.3 L 93.8 443.1 L 108.1 443.1\" id=\"188,184\"></path><path d=\"M 108.1 159.7 L 108.1 169.3 L 122.3 169.3\" id=\"186,183\"></path><path d=\"M 108.1 233.4 L 108.1 203.6 L 122.3 203.6\" id=\"185,182\"></path><path d=\"M 108.1 233.4 L 108.1 263.3 L 122.3 263.3\" id=\"185,181\"></path><path d=\"M 108.1 443.1 L 108.1 327.0 L 122.3 327.0\" id=\"184,180\"></path><path d=\"M 108.1 443.1 L 108.1 559.2 L 122.3 559.2\" id=\"184,179\"></path><path d=\"M 122.3 169.3 L 122.3 177.5 L 136.5 177.5\" id=\"183,178\"></path><path d=\"M 122.3 203.6 L 122.3 213.2 L 136.5 213.2\" id=\"182,177\"></path><path d=\"M 122.3 263.3 L 122.3 246.1 L 136.5 246.1\" id=\"181,176\"></path><path d=\"M 122.3 263.3 L 122.3 280.4 L 136.5 280.4\" id=\"181,175\"></path><path d=\"M 122.3 327.0 L 122.3 339.4 L 136.5 339.4\" id=\"180,174\"></path><path d=\"M 122.3 559.2 L 122.3 405.9 L 136.5 405.9\" id=\"179,173\"></path><path d=\"M 122.3 559.2 L 122.3 712.5 L 150.7 712.5\" id=\"179,172\"></path><path d=\"M 136.5 213.2 L 136.5 221.4 L 150.7 221.4\" id=\"177,171\"></path><path d=\"M 136.5 246.1 L 136.5 254.3 L 150.7 254.3\" id=\"176,170\"></path><path d=\"M 136.5 280.4 L 136.5 290.0 L 150.7 290.0\" id=\"175,169\"></path><path d=\"M 136.5 339.4 L 136.5 353.1 L 150.7 353.1\" id=\"174,168\"></path><path d=\"M 136.5 405.9 L 136.5 431.3 L 150.7 431.3\" id=\"173,167\"></path><path d=\"M 150.7 712.5 L 150.7 573.8 L 164.9 573.8\" id=\"172,166\"></path><path d=\"M 150.7 712.5 L 150.7 851.2 L 164.9 851.2\" id=\"172,165\"></path><path d=\"M 150.7 290.0 L 150.7 298.2 L 164.9 298.2\" id=\"169,164\"></path><path d=\"M 150.7 353.1 L 150.7 342.1 L 164.9 342.1\" id=\"168,163\"></path><path d=\"M 150.7 353.1 L 150.7 364.1 L 164.9 364.1\" id=\"168,162\"></path><path d=\"M 150.7 431.3 L 150.7 401.8 L 164.9 401.8\" id=\"167,161\"></path><path d=\"M 150.7 431.3 L 150.7 460.8 L 164.9 460.8\" id=\"167,160\"></path><path d=\"M 164.9 573.8 L 164.9 525.9 L 179.1 525.9\" id=\"166,159\"></path><path d=\"M 164.9 573.8 L 164.9 621.6 L 179.1 621.6\" id=\"166,158\"></path><path d=\"M 164.9 851.2 L 164.9 738.0 L 179.1 738.0\" id=\"165,157\"></path><path d=\"M 164.9 851.2 L 164.9 964.5 L 179.1 964.5\" id=\"165,156\"></path><path d=\"M 164.9 401.8 L 164.9 412.1 L 179.1 412.1\" id=\"161,155\"></path><path d=\"M 164.9 460.8 L 164.9 475.2 L 179.1 475.2\" id=\"160,154\"></path><path d=\"M 179.1 525.9 L 179.1 539.6 L 193.3 539.6\" id=\"159,153\"></path><path d=\"M 179.1 621.6 L 179.1 591.8 L 193.3 591.8\" id=\"158,152\"></path><path d=\"M 179.1 621.6 L 179.1 651.4 L 193.3 651.4\" id=\"158,151\"></path><path d=\"M 179.1 738.0 L 179.1 707.0 L 193.3 707.0\" id=\"157,150\"></path><path d=\"M 179.1 738.0 L 179.1 769.0 L 193.3 769.0\" id=\"157,149\"></path><path d=\"M 179.1 964.5 L 179.1 914.1 L 193.3 914.1\" id=\"156,148\"></path><path d=\"M 179.1 964.5 L 179.1 1014.8 L 193.3 1014.8\" id=\"156,147\"></path><path d=\"M 179.1 412.1 L 179.1 421.7 L 193.3 421.7\" id=\"155,146\"></path><path d=\"M 179.1 475.2 L 179.1 462.8 L 193.3 462.8\" id=\"154,145\"></path><path d=\"M 179.1 475.2 L 179.1 487.5 L 193.3 487.5\" id=\"154,144\"></path><path d=\"M 193.3 539.6 L 193.3 528.7 L 207.5 528.7\" id=\"153,143\"></path><path d=\"M 193.3 539.6 L 193.3 550.6 L 207.5 550.6\" id=\"153,142\"></path><path d=\"M 193.3 591.8 L 193.3 575.3 L 207.5 575.3\" id=\"152,141\"></path><path d=\"M 193.3 591.8 L 193.3 608.2 L 207.5 608.2\" id=\"152,140\"></path><path d=\"M 193.3 651.4 L 193.3 638.4 L 207.5 638.4\" id=\"151,139\"></path><path d=\"M 193.3 651.4 L 193.3 664.5 L 207.5 664.5\" id=\"151,138\"></path><path d=\"M 193.3 707.0 L 193.3 715.2 L 207.5 715.2\" id=\"150,137\"></path><path d=\"M 193.3 769.0 L 193.3 739.9 L 207.5 739.9\" id=\"149,136\"></path><path d=\"M 193.3 769.0 L 193.3 798.0 L 207.5 798.0\" id=\"149,135\"></path><path d=\"M 193.3 914.1 L 193.3 901.8 L 207.5 901.8\" id=\"148,134\"></path><path d=\"M 193.3 914.1 L 193.3 926.4 L 207.5 926.4\" id=\"148,133\"></path><path d=\"M 193.3 1014.8 L 193.3 969.0 L 207.5 969.0\" id=\"147,132\"></path><path d=\"M 193.3 1014.8 L 193.3 1060.7 L 207.5 1060.7\" id=\"147,131\"></path><path d=\"M 193.3 421.7 L 193.3 429.9 L 207.5 429.9\" id=\"146,130\"></path><path d=\"M 193.3 487.5 L 193.3 495.8 L 207.5 495.8\" id=\"144,129\"></path><path d=\"M 207.5 575.3 L 207.5 583.5 L 221.7 583.5\" id=\"141,128\"></path><path d=\"M 207.5 608.2 L 207.5 616.5 L 221.7 616.5\" id=\"140,127\"></path><path d=\"M 207.5 664.5 L 207.5 674.1 L 221.7 674.1\" id=\"138,126\"></path><path d=\"M 207.5 739.9 L 207.5 748.1 L 221.7 748.1\" id=\"136,125\"></path><path d=\"M 207.5 798.0 L 207.5 770.1 L 221.7 770.1\" id=\"135,124\"></path><path d=\"M 207.5 798.0 L 207.5 826.0 L 221.7 826.0\" id=\"135,123\"></path><path d=\"M 207.5 926.4 L 207.5 934.7 L 221.7 934.7\" id=\"133,122\"></path><path d=\"M 207.5 969.0 L 207.5 956.6 L 221.7 956.6\" id=\"132,121\"></path><path d=\"M 207.5 969.0 L 207.5 981.3 L 221.7 981.3\" id=\"132,120\"></path><path d=\"M 207.5 1060.7 L 207.5 1030.7 L 221.7 1030.7\" id=\"131,119\"></path><path d=\"M 207.5 1060.7 L 207.5 1090.7 L 221.7 1090.7\" id=\"131,118\"></path><path d=\"M 221.7 674.1 L 221.7 682.3 L 235.9 682.3\" id=\"126,117\"></path><path d=\"M 221.7 826.0 L 221.7 800.3 L 235.9 800.3\" id=\"123,116\"></path><path d=\"M 221.7 826.0 L 221.7 851.7 L 235.9 851.7\" id=\"123,115\"></path><path d=\"M 221.7 981.3 L 221.7 989.5 L 235.9 989.5\" id=\"120,114\"></path><path d=\"M 221.7 1030.7 L 221.7 1014.2 L 235.9 1014.2\" id=\"119,113\"></path><path d=\"M 221.7 1030.7 L 221.7 1047.2 L 235.9 1047.2\" id=\"119,112\"></path><path d=\"M 221.7 1090.7 L 221.7 1077.3 L 235.9 1077.3\" id=\"118,111\"></path><path d=\"M 221.7 1090.7 L 221.7 1104.1 L 235.9 1104.1\" id=\"118,110\"></path><path d=\"M 235.9 800.3 L 235.9 814.0 L 250.2 814.0\" id=\"116,109\"></path><path d=\"M 235.9 851.7 L 235.9 862.0 L 250.2 862.0\" id=\"115,108\"></path><path d=\"M 235.9 1014.2 L 235.9 1022.5 L 250.2 1022.5\" id=\"113,107\"></path><path d=\"M 235.9 1047.2 L 235.9 1055.4 L 250.2 1055.4\" id=\"112,106\"></path><path d=\"M 235.9 1104.1 L 235.9 1114.4 L 250.2 1114.4\" id=\"110,105\"></path><path d=\"M 250.2 814.0 L 250.2 803.0 L 264.4 803.0\" id=\"109,104\"></path><path d=\"M 250.2 814.0 L 250.2 824.9 L 264.4 824.9\" id=\"109,103\"></path><path d=\"M 250.2 862.0 L 250.2 871.6 L 264.4 871.6\" id=\"108,102\"></path><path d=\"M 250.2 1114.4 L 250.2 1124.0 L 264.4 1124.0\" id=\"105,101\"></path><path d=\"M 264.4 871.6 L 264.4 879.8 L 278.6 879.8\" id=\"102,100\"></path><path d=\"M 264.4 1124.0 L 264.4 1132.2 L 278.6 1132.2\" id=\"101,99\"></path><path d=\"M 65.4 76.7 L 65.4 62.3 L 79.6 62.3\" id=\"195,98\"></path><path d=\"M 93.8 78.8 L 93.8 73.3 L 108.1 73.3\" id=\"191,97\"></path><path d=\"M 93.8 78.8 L 93.8 84.3 L 108.1 84.3\" id=\"191,96\"></path><path d=\"M 93.8 103.5 L 93.8 95.2 L 108.1 95.2\" id=\"190,95\"></path><path d=\"M 108.1 111.7 L 108.1 106.2 L 122.3 106.2\" id=\"187,94\"></path><path d=\"M 108.1 111.7 L 108.1 117.2 L 122.3 117.2\" id=\"187,93\"></path><path d=\"M 65.4 186.0 L 65.4 128.2 L 79.6 128.2\" id=\"194,92\"></path><path d=\"M 93.8 149.4 L 93.8 139.1 L 108.1 139.1\" id=\"189,91\"></path><path d=\"M 108.1 159.7 L 108.1 150.1 L 122.3 150.1\" id=\"186,90\"></path><path d=\"M 122.3 169.3 L 122.3 161.1 L 136.5 161.1\" id=\"183,89\"></path><path d=\"M 136.5 177.5 L 136.5 172.0 L 150.7 172.0\" id=\"178,88\"></path><path d=\"M 136.5 177.5 L 136.5 183.0 L 150.7 183.0\" id=\"178,87\"></path><path d=\"M 122.3 203.6 L 122.3 194.0 L 136.5 194.0\" id=\"182,86\"></path><path d=\"M 136.5 213.2 L 136.5 205.0 L 150.7 205.0\" id=\"177,85\"></path><path d=\"M 150.7 221.4 L 150.7 215.9 L 164.9 215.9\" id=\"171,84\"></path><path d=\"M 150.7 221.4 L 150.7 226.9 L 164.9 226.9\" id=\"171,83\"></path><path d=\"M 136.5 246.1 L 136.5 237.9 L 150.7 237.9\" id=\"176,82\"></path><path d=\"M 150.7 254.3 L 150.7 248.9 L 164.9 248.9\" id=\"170,81\"></path><path d=\"M 150.7 254.3 L 150.7 259.8 L 164.9 259.8\" id=\"170,80\"></path><path d=\"M 136.5 280.4 L 136.5 270.8 L 150.7 270.8\" id=\"175,79\"></path><path d=\"M 150.7 290.0 L 150.7 281.8 L 164.9 281.8\" id=\"169,78\"></path><path d=\"M 164.9 298.2 L 164.9 292.8 L 179.1 292.8\" id=\"164,77\"></path><path d=\"M 164.9 298.2 L 164.9 303.7 L 179.1 303.7\" id=\"164,76\"></path><path d=\"M 122.3 327.0 L 122.3 314.7 L 136.5 314.7\" id=\"180,75\"></path><path d=\"M 136.5 339.4 L 136.5 325.7 L 150.7 325.7\" id=\"174,74\"></path><path d=\"M 164.9 342.1 L 164.9 336.6 L 179.1 336.6\" id=\"163,73\"></path><path d=\"M 164.9 342.1 L 164.9 347.6 L 179.1 347.6\" id=\"163,72\"></path><path d=\"M 164.9 364.1 L 164.9 358.6 L 179.1 358.6\" id=\"162,71\"></path><path d=\"M 164.9 364.1 L 164.9 369.6 L 179.1 369.6\" id=\"162,70\"></path><path d=\"M 136.5 405.9 L 136.5 380.5 L 150.7 380.5\" id=\"173,69\"></path><path d=\"M 164.9 401.8 L 164.9 391.5 L 179.1 391.5\" id=\"161,68\"></path><path d=\"M 179.1 412.1 L 179.1 402.5 L 193.3 402.5\" id=\"155,67\"></path><path d=\"M 193.3 421.7 L 193.3 413.5 L 207.5 413.5\" id=\"146,66\"></path><path d=\"M 207.5 429.9 L 207.5 424.4 L 221.7 424.4\" id=\"130,65\"></path><path d=\"M 207.5 429.9 L 207.5 435.4 L 221.7 435.4\" id=\"130,64\"></path><path d=\"M 164.9 460.8 L 164.9 446.4 L 179.1 446.4\" id=\"160,63\"></path><path d=\"M 193.3 462.8 L 193.3 457.3 L 207.5 457.3\" id=\"145,62\"></path><path d=\"M 193.3 462.8 L 193.3 468.3 L 207.5 468.3\" id=\"145,61\"></path><path d=\"M 193.3 487.5 L 193.3 479.3 L 207.5 479.3\" id=\"144,60\"></path><path d=\"M 207.5 495.8 L 207.5 490.3 L 221.7 490.3\" id=\"129,59\"></path><path d=\"M 207.5 495.8 L 207.5 501.2 L 221.7 501.2\" id=\"129,58\"></path><path d=\"M 179.1 525.9 L 179.1 512.2 L 193.3 512.2\" id=\"159,57\"></path><path d=\"M 207.5 528.7 L 207.5 523.2 L 221.7 523.2\" id=\"143,56\"></path><path d=\"M 207.5 528.7 L 207.5 534.2 L 221.7 534.2\" id=\"143,55\"></path><path d=\"M 207.5 550.6 L 207.5 545.1 L 221.7 545.1\" id=\"142,54\"></path><path d=\"M 207.5 550.6 L 207.5 556.1 L 221.7 556.1\" id=\"142,53\"></path><path d=\"M 207.5 575.3 L 207.5 567.1 L 221.7 567.1\" id=\"141,52\"></path><path d=\"M 221.7 583.5 L 221.7 578.1 L 235.9 578.1\" id=\"128,51\"></path><path d=\"M 221.7 583.5 L 221.7 589.0 L 235.9 589.0\" id=\"128,50\"></path><path d=\"M 207.5 608.2 L 207.5 600.0 L 221.7 600.0\" id=\"140,49\"></path><path d=\"M 221.7 616.5 L 221.7 611.0 L 235.9 611.0\" id=\"127,48\"></path><path d=\"M 221.7 616.5 L 221.7 621.9 L 235.9 621.9\" id=\"127,47\"></path><path d=\"M 207.5 638.4 L 207.5 632.9 L 221.7 632.9\" id=\"139,46\"></path><path d=\"M 207.5 638.4 L 207.5 643.9 L 221.7 643.9\" id=\"139,45\"></path><path d=\"M 207.5 664.5 L 207.5 654.9 L 221.7 654.9\" id=\"138,44\"></path><path d=\"M 221.7 674.1 L 221.7 665.8 L 235.9 665.8\" id=\"126,43\"></path><path d=\"M 235.9 682.3 L 235.9 676.8 L 250.2 676.8\" id=\"117,42\"></path><path d=\"M 235.9 682.3 L 235.9 687.8 L 250.2 687.8\" id=\"117,41\"></path><path d=\"M 193.3 707.0 L 193.3 698.8 L 207.5 698.8\" id=\"150,40\"></path><path d=\"M 207.5 715.2 L 207.5 709.7 L 221.7 709.7\" id=\"137,39\"></path><path d=\"M 207.5 715.2 L 207.5 720.7 L 221.7 720.7\" id=\"137,38\"></path><path d=\"M 207.5 739.9 L 207.5 731.7 L 221.7 731.7\" id=\"136,37\"></path><path d=\"M 221.7 748.1 L 221.7 742.7 L 235.9 742.7\" id=\"125,36\"></path><path d=\"M 221.7 748.1 L 221.7 753.6 L 235.9 753.6\" id=\"125,35\"></path><path d=\"M 221.7 770.1 L 221.7 764.6 L 235.9 764.6\" id=\"124,34\"></path><path d=\"M 221.7 770.1 L 221.7 775.6 L 235.9 775.6\" id=\"124,33\"></path><path d=\"M 235.9 800.3 L 235.9 786.5 L 250.2 786.5\" id=\"116,32\"></path><path d=\"M 264.4 803.0 L 264.4 797.5 L 278.6 797.5\" id=\"104,31\"></path><path d=\"M 264.4 803.0 L 264.4 808.5 L 278.6 808.5\" id=\"104,30\"></path><path d=\"M 264.4 824.9 L 264.4 819.5 L 278.6 819.5\" id=\"103,29\"></path><path d=\"M 264.4 824.9 L 264.4 830.4 L 278.6 830.4\" id=\"103,28\"></path><path d=\"M 235.9 851.7 L 235.9 841.4 L 250.2 841.4\" id=\"115,27\"></path><path d=\"M 250.2 862.0 L 250.2 852.4 L 264.4 852.4\" id=\"108,26\"></path><path d=\"M 264.4 871.6 L 264.4 863.4 L 278.6 863.4\" id=\"102,25\"></path><path d=\"M 278.6 879.8 L 278.6 874.3 L 292.8 874.3\" id=\"100,24\"></path><path d=\"M 278.6 879.8 L 278.6 885.3 L 292.8 885.3\" id=\"100,23\"></path><path d=\"M 207.5 901.8 L 207.5 896.3 L 221.7 896.3\" id=\"134,22\"></path><path d=\"M 207.5 901.8 L 207.5 907.2 L 221.7 907.2\" id=\"134,21\"></path><path d=\"M 207.5 926.4 L 207.5 918.2 L 221.7 918.2\" id=\"133,20\"></path><path d=\"M 221.7 934.7 L 221.7 929.2 L 235.9 929.2\" id=\"122,19\"></path><path d=\"M 221.7 934.7 L 221.7 940.2 L 235.9 940.2\" id=\"122,18\"></path><path d=\"M 221.7 956.6 L 221.7 951.1 L 235.9 951.1\" id=\"121,17\"></path><path d=\"M 221.7 956.6 L 221.7 962.1 L 235.9 962.1\" id=\"121,16\"></path><path d=\"M 221.7 981.3 L 221.7 973.1 L 235.9 973.1\" id=\"120,15\"></path><path d=\"M 235.9 989.5 L 235.9 984.1 L 250.2 984.1\" id=\"114,14\"></path><path d=\"M 235.9 989.5 L 235.9 995.0 L 250.2 995.0\" id=\"114,13\"></path><path d=\"M 235.9 1014.2 L 235.9 1006.0 L 250.2 1006.0\" id=\"113,12\"></path><path d=\"M 250.2 1022.5 L 250.2 1017.0 L 264.4 1017.0\" id=\"107,11\"></path><path d=\"M 250.2 1022.5 L 250.2 1028.0 L 264.4 1028.0\" id=\"107,10\"></path><path d=\"M 235.9 1047.2 L 235.9 1038.9 L 250.2 1038.9\" id=\"112,9\"></path><path d=\"M 250.2 1055.4 L 250.2 1049.9 L 264.4 1049.9\" id=\"106,8\"></path><path d=\"M 250.2 1055.4 L 250.2 1060.9 L 264.4 1060.9\" id=\"106,7\"></path><path d=\"M 235.9 1077.3 L 235.9 1071.8 L 250.2 1071.8\" id=\"111,6\"></path><path d=\"M 235.9 1077.3 L 235.9 1082.8 L 250.2 1082.8\" id=\"111,5\"></path><path d=\"M 235.9 1104.1 L 235.9 1093.8 L 250.2 1093.8\" id=\"110,4\"></path><path d=\"M 250.2 1114.4 L 250.2 1104.8 L 264.4 1104.8\" id=\"105,3\"></path><path d=\"M 264.4 1124.0 L 264.4 1115.7 L 278.6 1115.7\" id=\"101,2\"></path><path d=\"M 278.6 1132.2 L 278.6 1126.7 L 292.8 1126.7\" id=\"99,1\"></path><path d=\"M 278.6 1132.2 L 278.6 1137.7 L 292.8 1137.7\" id=\"99,0\"></path></g><g class=\"toytree-AlignEdges\" style=\"stroke:rgb(66.3%,66.3%,66.3%);stroke-dasharray:2, 4;stroke-linecap:round;stroke-opacity:1.0;stroke-width:2\"><path d=\"M 292.8 1137.7 L 292.8 1137.7\"></path><path d=\"M 292.8 1126.7 L 292.8 1126.7\"></path><path d=\"M 292.8 1115.7 L 278.6 1115.7\"></path><path d=\"M 292.8 1104.8 L 264.4 1104.8\"></path><path d=\"M 292.8 1093.8 L 250.2 1093.8\"></path><path d=\"M 292.8 1082.8 L 250.2 1082.8\"></path><path d=\"M 292.8 1071.8 L 250.2 1071.8\"></path><path d=\"M 292.8 1060.9 L 264.4 1060.9\"></path><path d=\"M 292.8 1049.9 L 264.4 1049.9\"></path><path d=\"M 292.8 1038.9 L 250.2 1038.9\"></path><path d=\"M 292.8 1028.0 L 264.4 1028.0\"></path><path d=\"M 292.8 1017.0 L 264.4 1017.0\"></path><path d=\"M 292.8 1006.0 L 250.2 1006.0\"></path><path d=\"M 292.8 995.0 L 250.2 995.0\"></path><path d=\"M 292.8 984.1 L 250.2 984.1\"></path><path d=\"M 292.8 973.1 L 235.9 973.1\"></path><path d=\"M 292.8 962.1 L 235.9 962.1\"></path><path d=\"M 292.8 951.1 L 235.9 951.1\"></path><path d=\"M 292.8 940.2 L 235.9 940.2\"></path><path d=\"M 292.8 929.2 L 235.9 929.2\"></path><path d=\"M 292.8 918.2 L 221.7 918.2\"></path><path d=\"M 292.8 907.2 L 221.7 907.2\"></path><path d=\"M 292.8 896.3 L 221.7 896.3\"></path><path d=\"M 292.8 885.3 L 292.8 885.3\"></path><path d=\"M 292.8 874.3 L 292.8 874.3\"></path><path d=\"M 292.8 863.4 L 278.6 863.4\"></path><path d=\"M 292.8 852.4 L 264.4 852.4\"></path><path d=\"M 292.8 841.4 L 250.2 841.4\"></path><path d=\"M 292.8 830.4 L 278.6 830.4\"></path><path d=\"M 292.8 819.5 L 278.6 819.5\"></path><path d=\"M 292.8 808.5 L 278.6 808.5\"></path><path d=\"M 292.8 797.5 L 278.6 797.5\"></path><path d=\"M 292.8 786.5 L 250.2 786.5\"></path><path d=\"M 292.8 775.6 L 235.9 775.6\"></path><path d=\"M 292.8 764.6 L 235.9 764.6\"></path><path d=\"M 292.8 753.6 L 235.9 753.6\"></path><path d=\"M 292.8 742.7 L 235.9 742.7\"></path><path d=\"M 292.8 731.7 L 221.7 731.7\"></path><path d=\"M 292.8 720.7 L 221.7 720.7\"></path><path d=\"M 292.8 709.7 L 221.7 709.7\"></path><path d=\"M 292.8 698.8 L 207.5 698.8\"></path><path d=\"M 292.8 687.8 L 250.2 687.8\"></path><path d=\"M 292.8 676.8 L 250.2 676.8\"></path><path d=\"M 292.8 665.8 L 235.9 665.8\"></path><path d=\"M 292.8 654.9 L 221.7 654.9\"></path><path d=\"M 292.8 643.9 L 221.7 643.9\"></path><path d=\"M 292.8 632.9 L 221.7 632.9\"></path><path d=\"M 292.8 621.9 L 235.9 621.9\"></path><path d=\"M 292.8 611.0 L 235.9 611.0\"></path><path d=\"M 292.8 600.0 L 221.7 600.0\"></path><path d=\"M 292.8 589.0 L 235.9 589.0\"></path><path d=\"M 292.8 578.1 L 235.9 578.1\"></path><path d=\"M 292.8 567.1 L 221.7 567.1\"></path><path d=\"M 292.8 556.1 L 221.7 556.1\"></path><path d=\"M 292.8 545.1 L 221.7 545.1\"></path><path d=\"M 292.8 534.2 L 221.7 534.2\"></path><path d=\"M 292.8 523.2 L 221.7 523.2\"></path><path d=\"M 292.8 512.2 L 193.3 512.2\"></path><path d=\"M 292.8 501.2 L 221.7 501.2\"></path><path d=\"M 292.8 490.3 L 221.7 490.3\"></path><path d=\"M 292.8 479.3 L 207.5 479.3\"></path><path d=\"M 292.8 468.3 L 207.5 468.3\"></path><path d=\"M 292.8 457.3 L 207.5 457.3\"></path><path d=\"M 292.8 446.4 L 179.1 446.4\"></path><path d=\"M 292.8 435.4 L 221.7 435.4\"></path><path d=\"M 292.8 424.4 L 221.7 424.4\"></path><path d=\"M 292.8 413.5 L 207.5 413.5\"></path><path d=\"M 292.8 402.5 L 193.3 402.5\"></path><path d=\"M 292.8 391.5 L 179.1 391.5\"></path><path d=\"M 292.8 380.5 L 150.7 380.5\"></path><path d=\"M 292.8 369.6 L 179.1 369.6\"></path><path d=\"M 292.8 358.6 L 179.1 358.6\"></path><path d=\"M 292.8 347.6 L 179.1 347.6\"></path><path d=\"M 292.8 336.6 L 179.1 336.6\"></path><path d=\"M 292.8 325.7 L 150.7 325.7\"></path><path d=\"M 292.8 314.7 L 136.5 314.7\"></path><path d=\"M 292.8 303.7 L 179.1 303.7\"></path><path d=\"M 292.8 292.8 L 179.1 292.8\"></path><path d=\"M 292.8 281.8 L 164.9 281.8\"></path><path d=\"M 292.8 270.8 L 150.7 270.8\"></path><path d=\"M 292.8 259.8 L 164.9 259.8\"></path><path d=\"M 292.8 248.9 L 164.9 248.9\"></path><path d=\"M 292.8 237.9 L 150.7 237.9\"></path><path d=\"M 292.8 226.9 L 164.9 226.9\"></path><path d=\"M 292.8 215.9 L 164.9 215.9\"></path><path d=\"M 292.8 205.0 L 150.7 205.0\"></path><path d=\"M 292.8 194.0 L 136.5 194.0\"></path><path d=\"M 292.8 183.0 L 150.7 183.0\"></path><path d=\"M 292.8 172.0 L 150.7 172.0\"></path><path d=\"M 292.8 161.1 L 136.5 161.1\"></path><path d=\"M 292.8 150.1 L 122.3 150.1\"></path><path d=\"M 292.8 139.1 L 108.1 139.1\"></path><path d=\"M 292.8 128.2 L 79.6 128.2\"></path><path d=\"M 292.8 117.2 L 122.3 117.2\"></path><path d=\"M 292.8 106.2 L 122.3 106.2\"></path><path d=\"M 292.8 95.2 L 108.1 95.2\"></path><path d=\"M 292.8 84.3 L 108.1 84.3\"></path><path d=\"M 292.8 73.3 L 108.1 73.3\"></path><path d=\"M 292.8 62.3 L 79.6 62.3\"></path></g><g class=\"toytree-TipLabels\" style=\"fill:rgb(14.9%,14.9%,14.9%);fill-opacity:1.0;font-family:helvetica;font-size:11px;font-weight:normal;stroke:none;white-space:pre\"><g transform=\"translate(292.79,1137.68)rotate(0)\"><text style=\"\" x=\"15.00\" y=\"2.81\">S_bernardinus_NJ_3777</text></g><g transform=\"translate(292.79,1126.71)rotate(0)\"><text style=\"\" x=\"15.00\" y=\"2.81\">S_bernardinus_White_8769</text></g><g transform=\"translate(292.79,1115.74)rotate(0)\"><text style=\"\" x=\"15.00\" y=\"2.81\">S_bernardinus_NJ_4770</text></g><g transform=\"translate(292.79,1104.76)rotate(0)\"><text style=\"\" x=\"15.00\" y=\"2.81\">S_bernardinus_NJ_4775</text></g><g transform=\"translate(292.79,1093.79)rotate(0)\"><text style=\"\" x=\"15.00\" y=\"2.81\">S_bernardinus_NJ_4583</text></g><g transform=\"translate(292.79,1082.82)rotate(0)\"><text style=\"\" x=\"15.00\" y=\"2.81\">S_bernardinus_NJ_3797</text></g><g transform=\"translate(292.79,1071.84)rotate(0)\"><text style=\"\" x=\"15.00\" y=\"2.81\">S_bernardinus_e095</text></g><g transform=\"translate(292.79,1060.87)rotate(0)\"><text style=\"\" x=\"15.00\" y=\"2.81\">S_medeirosii_NJ_4764a</text></g><g transform=\"translate(292.79,1049.90)rotate(0)\"><text style=\"\" x=\"15.00\" y=\"2.81\">S_medeirosii_NJ_4764b</text></g><g transform=\"translate(292.79,1038.92)rotate(0)\"><text style=\"\" x=\"15.00\" y=\"2.81\">S_medeirosii_UCR_251770</text></g><g transform=\"translate(292.79,1027.95)rotate(0)\"><text style=\"\" x=\"15.00\" y=\"2.81\">S_medeirosii_NJ_2419b</text></g><g transform=\"translate(292.79,1016.98)rotate(0)\"><text style=\"\" x=\"15.00\" y=\"2.81\">S_medeirosii_NJ_2419a</text></g><g transform=\"translate(292.79,1006.00)rotate(0)\"><text style=\"\" x=\"15.00\" y=\"2.81\">S_medeirosii_NJ_525</text></g><g transform=\"translate(292.79,995.03)rotate(0)\"><text style=\"\" x=\"15.00\" y=\"2.81\">S_juneae_NJ_4774</text></g><g transform=\"translate(292.79,984.06)rotate(0)\"><text style=\"\" x=\"15.00\" y=\"2.81\">S_juneae_NJ_4773</text></g><g transform=\"translate(292.79,973.09)rotate(0)\"><text style=\"\" x=\"15.00\" y=\"2.81\">S_juneae_NJ_4772</text></g><g transform=\"translate(292.79,962.11)rotate(0)\"><text style=\"\" x=\"15.00\" y=\"2.81\">S_campestris_NJ_3784</text></g><g transform=\"translate(292.79,951.14)rotate(0)\"><text style=\"\" x=\"15.00\" y=\"2.81\">S_campestris_NJ_3785</text></g><g transform=\"translate(292.79,940.17)rotate(0)\"><text style=\"\" x=\"15.00\" y=\"2.81\">S_campestris_NJ_4627</text></g><g transform=\"translate(292.79,929.19)rotate(0)\"><text style=\"\" x=\"15.00\" y=\"2.81\">S_campestris_NJ_3800</text></g><g transform=\"translate(292.79,918.22)rotate(0)\"><text style=\"\" x=\"15.00\" y=\"2.81\">S_campestris_NJ_4626</text></g><g transform=\"translate(292.79,907.25)rotate(0)\"><text style=\"\" x=\"15.00\" y=\"2.81\">S_campestris_NJ_3793</text></g><g transform=\"translate(292.79,896.27)rotate(0)\"><text style=\"\" x=\"15.00\" y=\"2.81\">S_campestris_NJ_3791</text></g><g transform=\"translate(292.79,885.30)rotate(0)\"><text style=\"\" x=\"15.00\" y=\"2.81\">S_cordatus_NJ_1569</text></g><g transform=\"translate(292.79,874.33)rotate(0)\"><text style=\"\" x=\"15.00\" y=\"2.81\">S_cordatus_NJ_3686</text></g><g transform=\"translate(292.79,863.35)rotate(0)\"><text style=\"\" x=\"15.00\" y=\"2.81\">S_cordatus_NJ_3637</text></g><g transform=\"translate(292.79,852.38)rotate(0)\"><text style=\"\" x=\"15.00\" y=\"2.81\">S_cordatus_Bell_8389</text></g><g transform=\"translate(292.79,841.41)rotate(0)\"><text style=\"\" x=\"15.00\" y=\"2.81\">S_cordatus_Andre_12643</text></g><g transform=\"translate(292.79,830.44)rotate(0)\"><text style=\"\" x=\"15.00\" y=\"2.81\">S_cordatus_e086</text></g><g transform=\"translate(292.79,819.46)rotate(0)\"><text style=\"\" x=\"15.00\" y=\"2.81\">S_cordatus_nic262</text></g><g transform=\"translate(292.79,808.49)rotate(0)\"><text style=\"\" x=\"15.00\" y=\"2.81\">S_cordatus_NJ_3825</text></g><g transform=\"translate(292.79,797.52)rotate(0)\"><text style=\"\" x=\"15.00\" y=\"2.81\">S_cordatus_e054</text></g><g transform=\"translate(292.79,786.54)rotate(0)\"><text style=\"\" x=\"15.00\" y=\"2.81\">S_cordatus_NJ_3818</text></g><g transform=\"translate(292.79,775.57)rotate(0)\"><text style=\"\" x=\"15.00\" y=\"2.81\">S_cordatus_Moore_3278</text></g><g transform=\"translate(292.79,764.60)rotate(0)\"><text style=\"\" x=\"15.00\" y=\"2.81\">S_cordatus_Hodgson_23698</text></g><g transform=\"translate(292.79,753.62)rotate(0)\"><text style=\"\" x=\"15.00\" y=\"2.81\">S_cordatus_NJ_4387</text></g><g transform=\"translate(292.79,742.65)rotate(0)\"><text style=\"\" x=\"15.00\" y=\"2.81\">S_cordatus_nic139</text></g><g transform=\"translate(292.79,731.68)rotate(0)\"><text style=\"\" x=\"15.00\" y=\"2.81\">S_cordatus_Scord_Oregon</text></g><g transform=\"translate(292.79,720.70)rotate(0)\"><text style=\"\" x=\"15.00\" y=\"2.81\">S_oliganthus_NJ_3805</text></g><g transform=\"translate(292.79,709.73)rotate(0)\"><text style=\"\" x=\"15.00\" y=\"2.81\">S_oliganthus_NJ_3801</text></g><g transform=\"translate(292.79,698.76)rotate(0)\"><text style=\"\" x=\"15.00\" y=\"2.81\">S_oliganthus_RENO_18159</text></g><g transform=\"translate(292.79,687.78)rotate(0)\"><text style=\"\" x=\"15.00\" y=\"2.81\">S_longisiliquus_nic180</text></g><g transform=\"translate(292.79,676.81)rotate(0)\"><text style=\"\" x=\"15.00\" y=\"2.81\">S_longisiliquus_NJ_4398</text></g><g transform=\"translate(292.79,665.84)rotate(0)\"><text style=\"\" x=\"15.00\" y=\"2.81\">S_longisiliquus_NJ_4399</text></g><g transform=\"translate(292.79,654.87)rotate(0)\"><text style=\"\" x=\"15.00\" y=\"2.81\">S_longisiliquus_NJ_4379</text></g><g transform=\"translate(292.79,643.89)rotate(0)\"><text style=\"\" x=\"15.00\" y=\"2.81\">S_longisiliquus_D116</text></g><g transform=\"translate(292.79,632.92)rotate(0)\"><text style=\"\" x=\"15.00\" y=\"2.81\">S_longisiliquus_e055</text></g><g transform=\"translate(292.79,621.95)rotate(0)\"><text style=\"\" x=\"15.00\" y=\"2.81\">S_barbatus_NJ_4393</text></g><g transform=\"translate(292.79,610.97)rotate(0)\"><text style=\"\" x=\"15.00\" y=\"2.81\">S_barbatus_NJ_4388</text></g><g transform=\"translate(292.79,600.00)rotate(0)\"><text style=\"\" x=\"15.00\" y=\"2.81\">S_barbatus_nic176</text></g><g transform=\"translate(292.79,589.03)rotate(0)\"><text style=\"\" x=\"15.00\" y=\"2.81\">S_barbatus_NJ_4394</text></g><g transform=\"translate(292.79,578.05)rotate(0)\"><text style=\"\" x=\"15.00\" y=\"2.81\">S_barbatus_NJ_4395</text></g><g transform=\"translate(292.79,567.08)rotate(0)\"><text style=\"\" x=\"15.00\" y=\"2.81\">S_barbatus_Janeway_7367</text></g><g transform=\"translate(292.79,556.11)rotate(0)\"><text style=\"\" x=\"15.00\" y=\"2.81\">S_howellii_NJ_4386</text></g><g transform=\"translate(292.79,545.13)rotate(0)\"><text style=\"\" x=\"15.00\" y=\"2.81\">S_howellii_NJ_4383</text></g><g transform=\"translate(292.79,534.16)rotate(0)\"><text style=\"\" x=\"15.00\" y=\"2.81\">S_howellii_nic152</text></g><g transform=\"translate(292.79,523.19)rotate(0)\"><text style=\"\" x=\"15.00\" y=\"2.81\">S_howellii_NJ_4382</text></g><g transform=\"translate(292.79,512.22)rotate(0)\"><text style=\"\" x=\"15.00\" y=\"2.81\">S_howellii_NJ_4385</text></g><g transform=\"translate(292.79,501.24)rotate(0)\"><text style=\"\" x=\"15.00\" y=\"2.81\">S_tortuosus_Helmkamp_17516</text></g><g transform=\"translate(292.79,490.27)rotate(0)\"><text style=\"\" x=\"15.00\" y=\"2.81\">S_tortuosus_e040</text></g><g transform=\"translate(292.79,479.30)rotate(0)\"><text style=\"\" x=\"15.00\" y=\"2.81\">S_tortuosus_NJ_3665</text></g><g transform=\"translate(292.79,468.32)rotate(0)\"><text style=\"\" x=\"15.00\" y=\"2.81\">S_diversifolius_e077</text></g><g transform=\"translate(292.79,457.35)rotate(0)\"><text style=\"\" x=\"15.00\" y=\"2.81\">S_farnsworthianus_e034</text></g><g transform=\"translate(292.79,446.38)rotate(0)\"><text style=\"\" x=\"15.00\" y=\"2.81\">S_polygaloides_e071</text></g><g transform=\"translate(292.79,435.40)rotate(0)\"><text style=\"\" x=\"15.00\" y=\"2.81\">S_glandulosus_nic202</text></g><g transform=\"translate(292.79,424.43)rotate(0)\"><text style=\"\" x=\"15.00\" y=\"2.81\">S_glandulosus_e041</text></g><g transform=\"translate(292.79,413.46)rotate(0)\"><text style=\"\" x=\"15.00\" y=\"2.81\">S_spnov_aarthur_NJ_0038</text></g><g transform=\"translate(292.79,402.48)rotate(0)\"><text style=\"\" x=\"15.00\" y=\"2.81\">S_glandulosus_d125</text></g><g transform=\"translate(292.79,391.51)rotate(0)\"><text style=\"\" x=\"15.00\" y=\"2.81\">S_glandulosus_albidus_d108A</text></g><g transform=\"translate(292.79,380.54)rotate(0)\"><text style=\"\" x=\"15.00\" y=\"2.81\">S_polygaloides_D088</text></g><g transform=\"translate(292.79,369.56)rotate(0)\"><text style=\"\" x=\"15.00\" y=\"2.81\">S_barbiger_e045</text></g><g transform=\"translate(292.79,358.59)rotate(0)\"><text style=\"\" x=\"15.00\" y=\"2.81\">S_barbiger_nic193</text></g><g transform=\"translate(292.79,347.62)rotate(0)\"><text style=\"\" x=\"15.00\" y=\"2.81\">S_morrisonii_e016</text></g><g transform=\"translate(292.79,336.65)rotate(0)\"><text style=\"\" x=\"15.00\" y=\"2.81\">S_brachiatus_e100</text></g><g transform=\"translate(292.79,325.67)rotate(0)\"><text style=\"\" x=\"15.00\" y=\"2.81\">S_hesperidis_e043</text></g><g transform=\"translate(292.79,314.70)rotate(0)\"><text style=\"\" x=\"15.00\" y=\"2.81\">S_breweri_e035</text></g><g transform=\"translate(292.79,303.73)rotate(0)\"><text style=\"\" x=\"15.00\" y=\"2.81\">C_coulteri_e015</text></g><g transform=\"translate(292.79,292.75)rotate(0)\"><text style=\"\" x=\"15.00\" y=\"2.81\">C_californicus_NJ_3881</text></g><g transform=\"translate(292.79,281.78)rotate(0)\"><text style=\"\" x=\"15.00\" y=\"2.81\">C_inflatus_e044</text></g><g transform=\"translate(292.79,270.81)rotate(0)\"><text style=\"\" x=\"15.00\" y=\"2.81\">C_heterophyllus_nic027</text></g><g transform=\"translate(292.79,259.83)rotate(0)\"><text style=\"\" x=\"15.00\" y=\"2.81\">C_amp_amplexicaulis_e068</text></g><g transform=\"translate(292.79,248.86)rotate(0)\"><text style=\"\" x=\"15.00\" y=\"2.81\">C_amp_barbarae_REF</text></g><g transform=\"translate(292.79,237.89)rotate(0)\"><text style=\"\" x=\"15.00\" y=\"2.81\">C_amp_barbarae_e020</text></g><g transform=\"translate(292.79,226.91)rotate(0)\"><text style=\"\" x=\"15.00\" y=\"2.81\">C_anceps_nic053</text></g><g transform=\"translate(292.79,215.94)rotate(0)\"><text style=\"\" x=\"15.00\" y=\"2.81\">C_flavescens_e003</text></g><g transform=\"translate(292.79,204.97)rotate(0)\"><text style=\"\" x=\"15.00\" y=\"2.81\">S_glandulosus_e081</text></g><g transform=\"translate(292.79,194.00)rotate(0)\"><text style=\"\" x=\"15.00\" y=\"2.81\">C_lasyophyllus_CalBod032213_1</text></g><g transform=\"translate(292.79,183.02)rotate(0)\"><text style=\"\" x=\"15.00\" y=\"2.81\">Thly_aurea_Porter_15531</text></g><g transform=\"translate(292.79,172.05)rotate(0)\"><text style=\"\" x=\"15.00\" y=\"2.81\">S_pilosus_e053</text></g><g transform=\"translate(292.79,161.08)rotate(0)\"><text style=\"\" x=\"15.00\" y=\"2.81\">The_crispum_e084</text></g><g transform=\"translate(292.79,150.10)rotate(0)\"><text style=\"\" x=\"15.00\" y=\"2.81\">C_glaucus_Porter_15587</text></g><g transform=\"translate(292.79,139.13)rotate(0)\"><text style=\"\" x=\"15.00\" y=\"2.81\">C_hallii_e078</text></g><g transform=\"translate(292.79,128.16)rotate(0)\"><text style=\"\" x=\"15.00\" y=\"2.81\">Si_hammittii_e111</text></g><g transform=\"translate(292.79,117.18)rotate(0)\"><text style=\"\" x=\"15.00\" y=\"2.81\">St_pinnata_e090</text></g><g transform=\"translate(292.79,106.21)rotate(0)\"><text style=\"\" x=\"15.00\" y=\"2.81\">St_elata_e093</text></g><g transform=\"translate(292.79,95.24)rotate(0)\"><text style=\"\" x=\"15.00\" y=\"2.81\">C_major_NJ_4561</text></g><g transform=\"translate(292.79,84.26)rotate(0)\"><text style=\"\" x=\"15.00\" y=\"2.81\">Sl_longirostris_e065</text></g><g transform=\"translate(292.79,73.29)rotate(0)\"><text style=\"\" x=\"15.00\" y=\"2.81\">Sl_longirostris_Porter_15532</text></g><g transform=\"translate(292.79,62.32)rotate(0)\"><text style=\"\" x=\"15.00\" y=\"2.81\">S_bracteatus_e120</text></g></g></g></g></g></svg><div class=\"toyplot-behavior\"><script>(function()\n",
       "{\n",
       "var modules={};\n",
       "})();</script></div></div>"
      ]
     },
     "metadata": {},
     "output_type": "display_data"
    }
   ],
   "source": [
    "# load tree, root, and drop outgroups\n",
    "tre = toytree.tree(\"../analysis-tetrad/strept-min4-tetrad.tree\")\n",
    "tre = tre.root(\"A_thaliana_TAIR10\")\n",
    "tre = tre.drop_tips([\"A_thaliana_TAIR10\", \"Sy_irio_NJ_3877\", \"reference\", \"S_irio\"])\n",
    "\n",
    "# draw with colored clades\n",
    "canvas, axes, mark = tre.draw(\n",
    "    height=1200,\n",
    "    width=500,\n",
    "    tip_labels_align=True,\n",
    "    #edge_colors=tre.get_edge_values_mapped({160,161,168,174,178,181,192,195}),\n",
    "    #node_labels=\"support\",\n",
    "    #node_labels_style={\"-toyplot-anchor-shift\": \"-10px\", \"baseline-shift\": \"-10px\"}\n",
    ");"
   ]
  },
  {
   "cell_type": "code",
   "execution_count": null,
   "metadata": {},
   "outputs": [],
   "source": []
  }
 ],
 "metadata": {
  "kernelspec": {
   "display_name": "Python 3",
   "language": "python",
   "name": "python3"
  },
  "language_info": {
   "codemirror_mode": {
    "name": "ipython",
    "version": 3
   },
   "file_extension": ".py",
   "mimetype": "text/x-python",
   "name": "python",
   "nbconvert_exporter": "python",
   "pygments_lexer": "ipython3",
   "version": "3.7.6"
  }
 },
 "nbformat": 4,
 "nbformat_minor": 4
}
