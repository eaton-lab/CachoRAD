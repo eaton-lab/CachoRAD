{
 "cells": [
  {
   "cell_type": "markdown",
   "metadata": {},
   "source": [
    "# Notebook 2: Demultiplexing\n",
    "\n",
    "In this notebook we will demultiplex samples from two RAD-seq libraries prepared by Floragenex Inc. Each library has a barcodes file mapping sample names to barcodes. THe first library contains 64 samples with 10bp barcodes, the second library contains 40 samples with 7-10bp barcodes. Both were prepared using the original RAD method using the PstI enzyme (CTGCAG). "
   ]
  },
  {
   "cell_type": "code",
   "execution_count": 3,
   "metadata": {},
   "outputs": [],
   "source": [
    "import ipyrad as ip"
   ]
  },
  {
   "cell_type": "markdown",
   "metadata": {},
   "source": [
    "### PATH to raw data files"
   ]
  },
  {
   "cell_type": "code",
   "execution_count": 4,
   "metadata": {},
   "outputs": [],
   "source": [
    "LIB1 = \"../data_rad_and_barcodes/rad_library_UO_C601_1.fastq.gz\"\n",
    "LIB2 = \"../data_rad_and_barcodes/rad_library_Undet.fastq.gz\""
   ]
  },
  {
   "cell_type": "markdown",
   "metadata": {},
   "source": [
    "### PATH to barcodes map files"
   ]
  },
  {
   "cell_type": "code",
   "execution_count": 12,
   "metadata": {},
   "outputs": [],
   "source": [
    "BCODE1 = \"../data_rad_and_barcodes/barcodes_UO_C601_1.csv\"\n",
    "BCODE2 = \"../data_rad_and_barcodes/barcodes_Undet_lib2.csv\""
   ]
  },
  {
   "cell_type": "markdown",
   "metadata": {},
   "source": [
    "### Demultiplex library 1"
   ]
  },
  {
   "cell_type": "code",
   "execution_count": 17,
   "metadata": {},
   "outputs": [
    {
     "name": "stdout",
     "output_type": "stream",
     "text": [
      "New Assembly: demux_lib1\n"
     ]
    }
   ],
   "source": [
    "# create an Assembly object and set parameters for demultiplexing\n",
    "demux1 = ip.Assembly(\"demux_lib1\")\n",
    "demux1.params.raw_fastq_path = LIB1\n",
    "demux1.params.barcodes_path = BCODE1\n",
    "demux1.params.max_barcode_mismatch = 1\n",
    "demux1.params.project_dir = \"../data_fastqs/\""
   ]
  },
  {
   "cell_type": "code",
   "execution_count": null,
   "metadata": {},
   "outputs": [
    {
     "name": "stdout",
     "output_type": "stream",
     "text": [
      "Parallel connection | sacra: 20 cores\n",
      "[####################] 100% 0:26:55 | chunking large files | s1 ||\n",
      "[                    ]   0% 0:01:47 | sorting reads        | s1 |"
     ]
    }
   ],
   "source": [
    "# run demultiplexing for library 1\n",
    "demux1.ipcluster['cores'] = 20\n",
    "demux1.run(\"1\", auto=True)"
   ]
  },
  {
   "cell_type": "markdown",
   "metadata": {},
   "source": [
    "### Demultiplex library 2"
   ]
  },
  {
   "cell_type": "code",
   "execution_count": null,
   "metadata": {},
   "outputs": [],
   "source": [
    "# create an Assembly object and set parameters for demultiplexing\n",
    "demux2 = ip.Assembly(\"demux_lib2\")\n",
    "demux2.params.raw_fastq_path = LIB2\n",
    "demux2.params.barcodes_path = BCODE2\n",
    "demux2.params.max_barcode_mismatch = 1\n",
    "demux2.params.project_dir = \"../data_fastqs/\""
   ]
  },
  {
   "cell_type": "code",
   "execution_count": null,
   "metadata": {},
   "outputs": [],
   "source": [
    "# run demultiplexing for library 2\n",
    "demux2.ipcluster['cores'] = 20\n",
    "demux2.run(\"1\", auto=True)"
   ]
  }
 ],
 "metadata": {
  "kernelspec": {
   "display_name": "Python 3",
   "language": "python",
   "name": "python3"
  },
  "language_info": {
   "codemirror_mode": {
    "name": "ipython",
    "version": 3
   },
   "file_extension": ".py",
   "mimetype": "text/x-python",
   "name": "python",
   "nbconvert_exporter": "python",
   "pygments_lexer": "ipython3",
   "version": "3.7.6"
  }
 },
 "nbformat": 4,
 "nbformat_minor": 4
}
